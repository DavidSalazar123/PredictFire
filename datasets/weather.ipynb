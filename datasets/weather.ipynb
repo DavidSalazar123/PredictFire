{
 "cells": [
  {
   "cell_type": "code",
   "execution_count": 110,
   "metadata": {},
   "outputs": [
    {
     "data": {
      "text/plain": [
       "Index(['Unnamed: 0', 'Call', 'datetime', 'temp', 'snowdepth', 'windspeed',\n",
       "       'conditions', 'IncidentDate', 'IncidentTime', 'IncidentType',\n",
       "       'Latitude', 'Longitude'],\n",
       "      dtype='object')"
      ]
     },
     "execution_count": 110,
     "metadata": {},
     "output_type": "execute_result"
    }
   ],
   "source": [
    "import numpy as np\n",
    "import pandas as pd\n",
    "\n",
    "# Load Fire Deparment Document (Private File)\n",
    "df = pd.read_csv(\"./original_dataset.csv\")\n",
    "\n",
    "# Call or not?\n",
    "df.insert(1, \"Call\", 0)\n",
    "df[\"Call\"].where(df[\"IncidentTime\"].isna(), 1, inplace=True)\n",
    "\n",
    "# Grab actual fire calls\n",
    "df = df[ df[\"Call\"] == 1 ]\n",
    "df.columns"
   ]
  },
  {
   "cell_type": "code",
   "execution_count": 111,
   "metadata": {},
   "outputs": [
    {
     "ename": "ParserError",
     "evalue": "Unknown string format: nan 05:30:00",
     "output_type": "error",
     "traceback": [
      "\u001b[1;31m---------------------------------------------------------------------------\u001b[0m",
      "\u001b[1;31mTypeError\u001b[0m                                 Traceback (most recent call last)",
      "File \u001b[1;32mc:\\Users\\david\\anaconda3\\envs\\ML\\lib\\site-packages\\pandas\\core\\arrays\\datetimes.py:2236\u001b[0m, in \u001b[0;36mobjects_to_datetime64ns\u001b[1;34m(data, dayfirst, yearfirst, utc, errors, require_iso8601, allow_object, allow_mixed)\u001b[0m\n\u001b[0;32m   2235\u001b[0m \u001b[39mtry\u001b[39;00m:\n\u001b[1;32m-> 2236\u001b[0m     values, tz_parsed \u001b[39m=\u001b[39m conversion\u001b[39m.\u001b[39;49mdatetime_to_datetime64(data\u001b[39m.\u001b[39;49mravel(\u001b[39m\"\u001b[39;49m\u001b[39mK\u001b[39;49m\u001b[39m\"\u001b[39;49m))\n\u001b[0;32m   2237\u001b[0m     \u001b[39m# If tzaware, these values represent unix timestamps, so we\u001b[39;00m\n\u001b[0;32m   2238\u001b[0m     \u001b[39m#  return them as i8 to distinguish from wall times\u001b[39;00m\n",
      "File \u001b[1;32mc:\\Users\\david\\anaconda3\\envs\\ML\\lib\\site-packages\\pandas\\_libs\\tslibs\\conversion.pyx:360\u001b[0m, in \u001b[0;36mpandas._libs.tslibs.conversion.datetime_to_datetime64\u001b[1;34m()\u001b[0m\n",
      "\u001b[1;31mTypeError\u001b[0m: Unrecognized value type: <class 'str'>",
      "\nDuring handling of the above exception, another exception occurred:\n",
      "\u001b[1;31mParserError\u001b[0m                               Traceback (most recent call last)",
      "Cell \u001b[1;32mIn [111], line 2\u001b[0m\n\u001b[0;32m      1\u001b[0m \u001b[39m# Create a date time\u001b[39;00m\n\u001b[1;32m----> 2\u001b[0m df\u001b[39m.\u001b[39minsert(\u001b[39m0\u001b[39m,\u001b[39m\"\u001b[39m\u001b[39mDateTime\u001b[39m\u001b[39m\"\u001b[39m, pd\u001b[39m.\u001b[39;49mto_datetime(df[\u001b[39m'\u001b[39;49m\u001b[39mdatetime\u001b[39;49m\u001b[39m'\u001b[39;49m]\u001b[39m.\u001b[39;49mastype(\u001b[39mstr\u001b[39;49m) \u001b[39m+\u001b[39;49m \u001b[39m\"\u001b[39;49m\u001b[39m \u001b[39;49m\u001b[39m\"\u001b[39;49m \u001b[39m+\u001b[39;49m df[\u001b[39m'\u001b[39;49m\u001b[39mIncidentTime\u001b[39;49m\u001b[39m'\u001b[39;49m]\u001b[39m.\u001b[39;49mastype(\u001b[39mstr\u001b[39;49m)))\n\u001b[0;32m      3\u001b[0m df\n",
      "File \u001b[1;32mc:\\Users\\david\\anaconda3\\envs\\ML\\lib\\site-packages\\pandas\\core\\tools\\datetimes.py:1051\u001b[0m, in \u001b[0;36mto_datetime\u001b[1;34m(arg, errors, dayfirst, yearfirst, utc, format, exact, unit, infer_datetime_format, origin, cache)\u001b[0m\n\u001b[0;32m   1049\u001b[0m         result \u001b[39m=\u001b[39m arg\u001b[39m.\u001b[39mmap(cache_array)\n\u001b[0;32m   1050\u001b[0m     \u001b[39melse\u001b[39;00m:\n\u001b[1;32m-> 1051\u001b[0m         values \u001b[39m=\u001b[39m convert_listlike(arg\u001b[39m.\u001b[39;49m_values, \u001b[39mformat\u001b[39;49m)\n\u001b[0;32m   1052\u001b[0m         result \u001b[39m=\u001b[39m arg\u001b[39m.\u001b[39m_constructor(values, index\u001b[39m=\u001b[39marg\u001b[39m.\u001b[39mindex, name\u001b[39m=\u001b[39marg\u001b[39m.\u001b[39mname)\n\u001b[0;32m   1053\u001b[0m \u001b[39melif\u001b[39;00m \u001b[39misinstance\u001b[39m(arg, (ABCDataFrame, abc\u001b[39m.\u001b[39mMutableMapping)):\n",
      "File \u001b[1;32mc:\\Users\\david\\anaconda3\\envs\\ML\\lib\\site-packages\\pandas\\core\\tools\\datetimes.py:402\u001b[0m, in \u001b[0;36m_convert_listlike_datetimes\u001b[1;34m(arg, format, name, tz, unit, errors, infer_datetime_format, dayfirst, yearfirst, exact)\u001b[0m\n\u001b[0;32m    400\u001b[0m \u001b[39massert\u001b[39;00m \u001b[39mformat\u001b[39m \u001b[39mis\u001b[39;00m \u001b[39mNone\u001b[39;00m \u001b[39mor\u001b[39;00m infer_datetime_format\n\u001b[0;32m    401\u001b[0m utc \u001b[39m=\u001b[39m tz \u001b[39m==\u001b[39m \u001b[39m\"\u001b[39m\u001b[39mutc\u001b[39m\u001b[39m\"\u001b[39m\n\u001b[1;32m--> 402\u001b[0m result, tz_parsed \u001b[39m=\u001b[39m objects_to_datetime64ns(\n\u001b[0;32m    403\u001b[0m     arg,\n\u001b[0;32m    404\u001b[0m     dayfirst\u001b[39m=\u001b[39;49mdayfirst,\n\u001b[0;32m    405\u001b[0m     yearfirst\u001b[39m=\u001b[39;49myearfirst,\n\u001b[0;32m    406\u001b[0m     utc\u001b[39m=\u001b[39;49mutc,\n\u001b[0;32m    407\u001b[0m     errors\u001b[39m=\u001b[39;49merrors,\n\u001b[0;32m    408\u001b[0m     require_iso8601\u001b[39m=\u001b[39;49mrequire_iso8601,\n\u001b[0;32m    409\u001b[0m     allow_object\u001b[39m=\u001b[39;49m\u001b[39mTrue\u001b[39;49;00m,\n\u001b[0;32m    410\u001b[0m )\n\u001b[0;32m    412\u001b[0m \u001b[39mif\u001b[39;00m tz_parsed \u001b[39mis\u001b[39;00m \u001b[39mnot\u001b[39;00m \u001b[39mNone\u001b[39;00m:\n\u001b[0;32m    413\u001b[0m     \u001b[39m# We can take a shortcut since the datetime64 numpy array\u001b[39;00m\n\u001b[0;32m    414\u001b[0m     \u001b[39m# is in UTC\u001b[39;00m\n\u001b[0;32m    415\u001b[0m     dta \u001b[39m=\u001b[39m DatetimeArray(result, dtype\u001b[39m=\u001b[39mtz_to_dtype(tz_parsed))\n",
      "File \u001b[1;32mc:\\Users\\david\\anaconda3\\envs\\ML\\lib\\site-packages\\pandas\\core\\arrays\\datetimes.py:2242\u001b[0m, in \u001b[0;36mobjects_to_datetime64ns\u001b[1;34m(data, dayfirst, yearfirst, utc, errors, require_iso8601, allow_object, allow_mixed)\u001b[0m\n\u001b[0;32m   2240\u001b[0m         \u001b[39mreturn\u001b[39;00m values\u001b[39m.\u001b[39mview(\u001b[39m\"\u001b[39m\u001b[39mi8\u001b[39m\u001b[39m\"\u001b[39m), tz_parsed\n\u001b[0;32m   2241\u001b[0m     \u001b[39mexcept\u001b[39;00m (\u001b[39mValueError\u001b[39;00m, \u001b[39mTypeError\u001b[39;00m):\n\u001b[1;32m-> 2242\u001b[0m         \u001b[39mraise\u001b[39;00m err\n\u001b[0;32m   2244\u001b[0m \u001b[39mif\u001b[39;00m tz_parsed \u001b[39mis\u001b[39;00m \u001b[39mnot\u001b[39;00m \u001b[39mNone\u001b[39;00m:\n\u001b[0;32m   2245\u001b[0m     \u001b[39m# We can take a shortcut since the datetime64 numpy array\u001b[39;00m\n\u001b[0;32m   2246\u001b[0m     \u001b[39m#  is in UTC\u001b[39;00m\n\u001b[0;32m   2247\u001b[0m     \u001b[39m# Return i8 values to denote unix timestamps\u001b[39;00m\n\u001b[0;32m   2248\u001b[0m     \u001b[39mreturn\u001b[39;00m result\u001b[39m.\u001b[39mview(\u001b[39m\"\u001b[39m\u001b[39mi8\u001b[39m\u001b[39m\"\u001b[39m), tz_parsed\n",
      "File \u001b[1;32mc:\\Users\\david\\anaconda3\\envs\\ML\\lib\\site-packages\\pandas\\core\\arrays\\datetimes.py:2224\u001b[0m, in \u001b[0;36mobjects_to_datetime64ns\u001b[1;34m(data, dayfirst, yearfirst, utc, errors, require_iso8601, allow_object, allow_mixed)\u001b[0m\n\u001b[0;32m   2222\u001b[0m order: Literal[\u001b[39m\"\u001b[39m\u001b[39mF\u001b[39m\u001b[39m\"\u001b[39m, \u001b[39m\"\u001b[39m\u001b[39mC\u001b[39m\u001b[39m\"\u001b[39m] \u001b[39m=\u001b[39m \u001b[39m\"\u001b[39m\u001b[39mF\u001b[39m\u001b[39m\"\u001b[39m \u001b[39mif\u001b[39;00m flags\u001b[39m.\u001b[39mf_contiguous \u001b[39melse\u001b[39;00m \u001b[39m\"\u001b[39m\u001b[39mC\u001b[39m\u001b[39m\"\u001b[39m\n\u001b[0;32m   2223\u001b[0m \u001b[39mtry\u001b[39;00m:\n\u001b[1;32m-> 2224\u001b[0m     result, tz_parsed \u001b[39m=\u001b[39m tslib\u001b[39m.\u001b[39;49marray_to_datetime(\n\u001b[0;32m   2225\u001b[0m         data\u001b[39m.\u001b[39;49mravel(\u001b[39m\"\u001b[39;49m\u001b[39mK\u001b[39;49m\u001b[39m\"\u001b[39;49m),\n\u001b[0;32m   2226\u001b[0m         errors\u001b[39m=\u001b[39;49merrors,\n\u001b[0;32m   2227\u001b[0m         utc\u001b[39m=\u001b[39;49mutc,\n\u001b[0;32m   2228\u001b[0m         dayfirst\u001b[39m=\u001b[39;49mdayfirst,\n\u001b[0;32m   2229\u001b[0m         yearfirst\u001b[39m=\u001b[39;49myearfirst,\n\u001b[0;32m   2230\u001b[0m         require_iso8601\u001b[39m=\u001b[39;49mrequire_iso8601,\n\u001b[0;32m   2231\u001b[0m         allow_mixed\u001b[39m=\u001b[39;49mallow_mixed,\n\u001b[0;32m   2232\u001b[0m     )\n\u001b[0;32m   2233\u001b[0m     result \u001b[39m=\u001b[39m result\u001b[39m.\u001b[39mreshape(data\u001b[39m.\u001b[39mshape, order\u001b[39m=\u001b[39morder)\n\u001b[0;32m   2234\u001b[0m \u001b[39mexcept\u001b[39;00m \u001b[39mValueError\u001b[39;00m \u001b[39mas\u001b[39;00m err:\n",
      "File \u001b[1;32mc:\\Users\\david\\anaconda3\\envs\\ML\\lib\\site-packages\\pandas\\_libs\\tslib.pyx:381\u001b[0m, in \u001b[0;36mpandas._libs.tslib.array_to_datetime\u001b[1;34m()\u001b[0m\n",
      "File \u001b[1;32mc:\\Users\\david\\anaconda3\\envs\\ML\\lib\\site-packages\\pandas\\_libs\\tslib.pyx:613\u001b[0m, in \u001b[0;36mpandas._libs.tslib.array_to_datetime\u001b[1;34m()\u001b[0m\n",
      "File \u001b[1;32mc:\\Users\\david\\anaconda3\\envs\\ML\\lib\\site-packages\\pandas\\_libs\\tslib.pyx:751\u001b[0m, in \u001b[0;36mpandas._libs.tslib._array_to_datetime_object\u001b[1;34m()\u001b[0m\n",
      "File \u001b[1;32mc:\\Users\\david\\anaconda3\\envs\\ML\\lib\\site-packages\\pandas\\_libs\\tslib.pyx:742\u001b[0m, in \u001b[0;36mpandas._libs.tslib._array_to_datetime_object\u001b[1;34m()\u001b[0m\n",
      "File \u001b[1;32mc:\\Users\\david\\anaconda3\\envs\\ML\\lib\\site-packages\\pandas\\_libs\\tslibs\\parsing.pyx:281\u001b[0m, in \u001b[0;36mpandas._libs.tslibs.parsing.parse_datetime_string\u001b[1;34m()\u001b[0m\n",
      "File \u001b[1;32m~\\AppData\\Roaming\\Python\\Python310\\site-packages\\dateutil\\parser\\_parser.py:1368\u001b[0m, in \u001b[0;36mparse\u001b[1;34m(timestr, parserinfo, **kwargs)\u001b[0m\n\u001b[0;32m   1366\u001b[0m     \u001b[39mreturn\u001b[39;00m parser(parserinfo)\u001b[39m.\u001b[39mparse(timestr, \u001b[39m*\u001b[39m\u001b[39m*\u001b[39mkwargs)\n\u001b[0;32m   1367\u001b[0m \u001b[39melse\u001b[39;00m:\n\u001b[1;32m-> 1368\u001b[0m     \u001b[39mreturn\u001b[39;00m DEFAULTPARSER\u001b[39m.\u001b[39mparse(timestr, \u001b[39m*\u001b[39m\u001b[39m*\u001b[39mkwargs)\n",
      "File \u001b[1;32m~\\AppData\\Roaming\\Python\\Python310\\site-packages\\dateutil\\parser\\_parser.py:643\u001b[0m, in \u001b[0;36mparser.parse\u001b[1;34m(self, timestr, default, ignoretz, tzinfos, **kwargs)\u001b[0m\n\u001b[0;32m    640\u001b[0m res, skipped_tokens \u001b[39m=\u001b[39m \u001b[39mself\u001b[39m\u001b[39m.\u001b[39m_parse(timestr, \u001b[39m*\u001b[39m\u001b[39m*\u001b[39mkwargs)\n\u001b[0;32m    642\u001b[0m \u001b[39mif\u001b[39;00m res \u001b[39mis\u001b[39;00m \u001b[39mNone\u001b[39;00m:\n\u001b[1;32m--> 643\u001b[0m     \u001b[39mraise\u001b[39;00m ParserError(\u001b[39m\"\u001b[39m\u001b[39mUnknown string format: \u001b[39m\u001b[39m%s\u001b[39;00m\u001b[39m\"\u001b[39m, timestr)\n\u001b[0;32m    645\u001b[0m \u001b[39mif\u001b[39;00m \u001b[39mlen\u001b[39m(res) \u001b[39m==\u001b[39m \u001b[39m0\u001b[39m:\n\u001b[0;32m    646\u001b[0m     \u001b[39mraise\u001b[39;00m ParserError(\u001b[39m\"\u001b[39m\u001b[39mString does not contain a date: \u001b[39m\u001b[39m%s\u001b[39;00m\u001b[39m\"\u001b[39m, timestr)\n",
      "\u001b[1;31mParserError\u001b[0m: Unknown string format: nan 05:30:00"
     ]
    }
   ],
   "source": [
    "# Create a date time\n",
    "df.insert(0,\"DateTime\", pd.to_datetime(df['datetime'].astype(str) + \" \" + df['IncidentTime'].astype(str)))\n",
    "df"
   ]
  },
  {
   "cell_type": "code",
   "execution_count": null,
   "metadata": {},
   "outputs": [],
   "source": [
    "# Created Time Series table for LSTM\n",
    "df = df.loc[:,list(df.columns[0:1])+\n",
    "list(df.columns[3:7])\n",
    "+ list(df.columns[11:15])\n",
    "]\n"
   ]
  }
 ],
 "metadata": {
  "kernelspec": {
   "display_name": "Python 3.10.6 ('ML')",
   "language": "python",
   "name": "python3"
  },
  "language_info": {
   "codemirror_mode": {
    "name": "ipython",
    "version": 3
   },
   "file_extension": ".py",
   "mimetype": "text/x-python",
   "name": "python",
   "nbconvert_exporter": "python",
   "pygments_lexer": "ipython3",
   "version": "3.10.8 | packaged by conda-forge | (main, Nov 24 2022, 14:07:00) [MSC v.1916 64 bit (AMD64)]"
  },
  "orig_nbformat": 4,
  "vscode": {
   "interpreter": {
    "hash": "407f5bce9b11530e19e06380f3610560da047a18a1d9e4ca7ed6b9fc09464b4d"
   }
  }
 },
 "nbformat": 4,
 "nbformat_minor": 2
}
