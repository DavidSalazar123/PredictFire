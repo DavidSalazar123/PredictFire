{
 "cells": [
  {
   "cell_type": "code",
   "execution_count": null,
   "metadata": {},
   "outputs": [],
   "source": [
    "\"\"\"\n",
    "CATEGORIZE CALLS\n",
    "unintentional_calls = df[df[\"Incident_Type\"].astype(str).str.contains(\"unintentional | false | no fire | malfunction\", case=False)][\"Incident_Type\"].value_counts()\n",
    "\n",
    "df[\"Incident_Type\"].mask(\n",
    "    df[\"Incident_Type\"].astype(str).str.contains(\"unintentional | false | no | malfunction\", case=False),\n",
    "    \"Unintentional Calls\", inplace=True)\n",
    "df[\"Incident_Type\"].mask(df[\"Incident_Type\"].astype(str).str.contains(\"fire\", case=False), \"Fire Call\", inplace=True)\n",
    "\n",
    " Print Graph of Longitude and Latitude\n",
    "#unintentional_calls = df[ df[\"Incident_Type\"] == \"Unintentional Calls\" ]\n",
    "#plt.scatter(unintentional_calls.Lat, unintentional_calls.Long, color = \"Green\", alpha=.6)\n",
    "#plt.xlabel(\"Lat\")\n",
    "#plt.ylabel(\"Long\")\n",
    "#plt.show()\n",
    "\"\"\""
   ]
  }
 ],
 "metadata": {
  "kernelspec": {
   "display_name": "Python 3.10.8 64-bit",
   "language": "python",
   "name": "python3"
  },
  "language_info": {
   "name": "python",
   "version": "3.10.8"
  },
  "orig_nbformat": 4,
  "vscode": {
   "interpreter": {
    "hash": "b629c3126b5df0b3c19ac5f524890cb3a3a2e86c1a2f2c4b1c29287aa73e65d0"
   }
  }
 },
 "nbformat": 4,
 "nbformat_minor": 2
}
