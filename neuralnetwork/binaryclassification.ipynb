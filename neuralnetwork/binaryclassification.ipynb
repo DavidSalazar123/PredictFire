{
 "cells": [
  {
   "cell_type": "markdown",
   "id": "8d3e54a7",
   "metadata": {},
   "source": [
    "# Creating Binary Cassification NN Model"
   ]
  },
  {
   "cell_type": "code",
   "execution_count": 19,
   "id": "e7e1f8f0",
   "metadata": {
    "collapsed": false,
    "pycharm": {
     "name": "#%%\n"
    }
   },
   "outputs": [],
   "source": [
    "from tensorflow.keras.models import Sequential, Model\n",
    "from tensorflow.keras.layers import Dense, Flatten, Input\n",
    "from sklearn.model_selection import train_test_split\n",
    "from tensorflow.keras.optimizers import Adam\n",
    "from tensorflow.keras.callbacks import EarlyStopping\n",
    "import tensorflow as tf\n",
    "from keras_tuner import RandomSearch\n",
    "import warnings\n",
    "warnings.simplefilter(action='ignore', category=FutureWarning)\n",
    "import pandas as pd\n",
    "from matplotlib import pyplot as plt\n",
    "import numpy as np\n",
    "from ann_visualizer.visualize import ann_viz"
   ]
  },
  {
   "cell_type": "markdown",
   "id": "017b6bbb",
   "metadata": {},
   "source": [
    "### Split the Train/Test set (80% Train (40% tune, 40% train), 20% Test)"
   ]
  },
  {
   "cell_type": "code",
   "execution_count": 9,
   "id": "ac17f22b",
   "metadata": {},
   "outputs": [
    {
     "data": {
      "text/html": [
       "<div>\n",
       "<style scoped>\n",
       "    .dataframe tbody tr th:only-of-type {\n",
       "        vertical-align: middle;\n",
       "    }\n",
       "\n",
       "    .dataframe tbody tr th {\n",
       "        vertical-align: top;\n",
       "    }\n",
       "\n",
       "    .dataframe thead th {\n",
       "        text-align: right;\n",
       "    }\n",
       "</style>\n",
       "<table border=\"1\" class=\"dataframe\">\n",
       "  <thead>\n",
       "    <tr style=\"text-align: right;\">\n",
       "      <th></th>\n",
       "      <th>datetime</th>\n",
       "      <th>IncidentTime</th>\n",
       "      <th>Call</th>\n",
       "      <th>Holiday</th>\n",
       "      <th>Morning</th>\n",
       "      <th>Afternoon</th>\n",
       "      <th>Night</th>\n",
       "      <th>Monday</th>\n",
       "      <th>Tuesday</th>\n",
       "      <th>Wednesday</th>\n",
       "      <th>...</th>\n",
       "      <th>Saturday</th>\n",
       "      <th>Sunday</th>\n",
       "      <th>temp</th>\n",
       "      <th>snowdepth</th>\n",
       "      <th>windspeed</th>\n",
       "      <th>Clear</th>\n",
       "      <th>Cloudy</th>\n",
       "      <th>Overcast</th>\n",
       "      <th>Rain</th>\n",
       "      <th>Snow</th>\n",
       "    </tr>\n",
       "  </thead>\n",
       "  <tbody>\n",
       "    <tr>\n",
       "      <th>0</th>\n",
       "      <td>2001-01-01</td>\n",
       "      <td>NaN</td>\n",
       "      <td>0</td>\n",
       "      <td>1</td>\n",
       "      <td>0</td>\n",
       "      <td>0</td>\n",
       "      <td>0</td>\n",
       "      <td>1</td>\n",
       "      <td>0</td>\n",
       "      <td>0</td>\n",
       "      <td>...</td>\n",
       "      <td>0</td>\n",
       "      <td>0</td>\n",
       "      <td>26.2</td>\n",
       "      <td>9.2</td>\n",
       "      <td>15.7</td>\n",
       "      <td>0</td>\n",
       "      <td>1</td>\n",
       "      <td>0</td>\n",
       "      <td>0</td>\n",
       "      <td>0</td>\n",
       "    </tr>\n",
       "    <tr>\n",
       "      <th>1</th>\n",
       "      <td>2001-01-02</td>\n",
       "      <td>NaN</td>\n",
       "      <td>0</td>\n",
       "      <td>0</td>\n",
       "      <td>0</td>\n",
       "      <td>0</td>\n",
       "      <td>0</td>\n",
       "      <td>0</td>\n",
       "      <td>1</td>\n",
       "      <td>0</td>\n",
       "      <td>...</td>\n",
       "      <td>0</td>\n",
       "      <td>0</td>\n",
       "      <td>22.5</td>\n",
       "      <td>7.3</td>\n",
       "      <td>15.8</td>\n",
       "      <td>0</td>\n",
       "      <td>1</td>\n",
       "      <td>0</td>\n",
       "      <td>0</td>\n",
       "      <td>0</td>\n",
       "    </tr>\n",
       "    <tr>\n",
       "      <th>2</th>\n",
       "      <td>2001-01-03</td>\n",
       "      <td>15:00:00</td>\n",
       "      <td>1</td>\n",
       "      <td>0</td>\n",
       "      <td>0</td>\n",
       "      <td>1</td>\n",
       "      <td>0</td>\n",
       "      <td>0</td>\n",
       "      <td>0</td>\n",
       "      <td>1</td>\n",
       "      <td>...</td>\n",
       "      <td>0</td>\n",
       "      <td>0</td>\n",
       "      <td>22.3</td>\n",
       "      <td>6.8</td>\n",
       "      <td>11.1</td>\n",
       "      <td>0</td>\n",
       "      <td>1</td>\n",
       "      <td>0</td>\n",
       "      <td>0</td>\n",
       "      <td>0</td>\n",
       "    </tr>\n",
       "    <tr>\n",
       "      <th>3</th>\n",
       "      <td>2001-01-04</td>\n",
       "      <td>NaN</td>\n",
       "      <td>0</td>\n",
       "      <td>0</td>\n",
       "      <td>0</td>\n",
       "      <td>0</td>\n",
       "      <td>0</td>\n",
       "      <td>0</td>\n",
       "      <td>0</td>\n",
       "      <td>0</td>\n",
       "      <td>...</td>\n",
       "      <td>0</td>\n",
       "      <td>0</td>\n",
       "      <td>27.6</td>\n",
       "      <td>6.3</td>\n",
       "      <td>14.0</td>\n",
       "      <td>0</td>\n",
       "      <td>1</td>\n",
       "      <td>0</td>\n",
       "      <td>0</td>\n",
       "      <td>0</td>\n",
       "    </tr>\n",
       "    <tr>\n",
       "      <th>4</th>\n",
       "      <td>2001-01-05</td>\n",
       "      <td>NaN</td>\n",
       "      <td>0</td>\n",
       "      <td>0</td>\n",
       "      <td>0</td>\n",
       "      <td>0</td>\n",
       "      <td>0</td>\n",
       "      <td>0</td>\n",
       "      <td>0</td>\n",
       "      <td>0</td>\n",
       "      <td>...</td>\n",
       "      <td>0</td>\n",
       "      <td>0</td>\n",
       "      <td>26.4</td>\n",
       "      <td>6.6</td>\n",
       "      <td>10.2</td>\n",
       "      <td>0</td>\n",
       "      <td>0</td>\n",
       "      <td>0</td>\n",
       "      <td>0</td>\n",
       "      <td>1</td>\n",
       "    </tr>\n",
       "    <tr>\n",
       "      <th>...</th>\n",
       "      <td>...</td>\n",
       "      <td>...</td>\n",
       "      <td>...</td>\n",
       "      <td>...</td>\n",
       "      <td>...</td>\n",
       "      <td>...</td>\n",
       "      <td>...</td>\n",
       "      <td>...</td>\n",
       "      <td>...</td>\n",
       "      <td>...</td>\n",
       "      <td>...</td>\n",
       "      <td>...</td>\n",
       "      <td>...</td>\n",
       "      <td>...</td>\n",
       "      <td>...</td>\n",
       "      <td>...</td>\n",
       "      <td>...</td>\n",
       "      <td>...</td>\n",
       "      <td>...</td>\n",
       "      <td>...</td>\n",
       "      <td>...</td>\n",
       "    </tr>\n",
       "    <tr>\n",
       "      <th>9361</th>\n",
       "      <td>2022-11-20</td>\n",
       "      <td>09:07:59</td>\n",
       "      <td>1</td>\n",
       "      <td>0</td>\n",
       "      <td>1</td>\n",
       "      <td>0</td>\n",
       "      <td>0</td>\n",
       "      <td>0</td>\n",
       "      <td>0</td>\n",
       "      <td>0</td>\n",
       "      <td>...</td>\n",
       "      <td>0</td>\n",
       "      <td>1</td>\n",
       "      <td>29.8</td>\n",
       "      <td>0.0</td>\n",
       "      <td>17.6</td>\n",
       "      <td>1</td>\n",
       "      <td>0</td>\n",
       "      <td>0</td>\n",
       "      <td>0</td>\n",
       "      <td>0</td>\n",
       "    </tr>\n",
       "    <tr>\n",
       "      <th>9362</th>\n",
       "      <td>2022-11-21</td>\n",
       "      <td>NaN</td>\n",
       "      <td>0</td>\n",
       "      <td>0</td>\n",
       "      <td>0</td>\n",
       "      <td>0</td>\n",
       "      <td>0</td>\n",
       "      <td>1</td>\n",
       "      <td>0</td>\n",
       "      <td>0</td>\n",
       "      <td>...</td>\n",
       "      <td>0</td>\n",
       "      <td>0</td>\n",
       "      <td>31.1</td>\n",
       "      <td>0.0</td>\n",
       "      <td>11.8</td>\n",
       "      <td>1</td>\n",
       "      <td>0</td>\n",
       "      <td>0</td>\n",
       "      <td>0</td>\n",
       "      <td>0</td>\n",
       "    </tr>\n",
       "    <tr>\n",
       "      <th>9363</th>\n",
       "      <td>2022-11-22</td>\n",
       "      <td>13:26:42</td>\n",
       "      <td>1</td>\n",
       "      <td>0</td>\n",
       "      <td>0</td>\n",
       "      <td>1</td>\n",
       "      <td>0</td>\n",
       "      <td>0</td>\n",
       "      <td>1</td>\n",
       "      <td>0</td>\n",
       "      <td>...</td>\n",
       "      <td>0</td>\n",
       "      <td>0</td>\n",
       "      <td>38.2</td>\n",
       "      <td>0.0</td>\n",
       "      <td>8.0</td>\n",
       "      <td>1</td>\n",
       "      <td>0</td>\n",
       "      <td>0</td>\n",
       "      <td>0</td>\n",
       "      <td>0</td>\n",
       "    </tr>\n",
       "    <tr>\n",
       "      <th>9364</th>\n",
       "      <td>2022-11-23</td>\n",
       "      <td>NaN</td>\n",
       "      <td>0</td>\n",
       "      <td>0</td>\n",
       "      <td>0</td>\n",
       "      <td>0</td>\n",
       "      <td>0</td>\n",
       "      <td>0</td>\n",
       "      <td>0</td>\n",
       "      <td>1</td>\n",
       "      <td>...</td>\n",
       "      <td>0</td>\n",
       "      <td>0</td>\n",
       "      <td>36.7</td>\n",
       "      <td>0.0</td>\n",
       "      <td>10.2</td>\n",
       "      <td>1</td>\n",
       "      <td>0</td>\n",
       "      <td>0</td>\n",
       "      <td>0</td>\n",
       "      <td>0</td>\n",
       "    </tr>\n",
       "    <tr>\n",
       "      <th>9365</th>\n",
       "      <td>2022-11-24</td>\n",
       "      <td>NaN</td>\n",
       "      <td>0</td>\n",
       "      <td>1</td>\n",
       "      <td>0</td>\n",
       "      <td>0</td>\n",
       "      <td>0</td>\n",
       "      <td>0</td>\n",
       "      <td>0</td>\n",
       "      <td>0</td>\n",
       "      <td>...</td>\n",
       "      <td>0</td>\n",
       "      <td>0</td>\n",
       "      <td>37.8</td>\n",
       "      <td>0.0</td>\n",
       "      <td>5.0</td>\n",
       "      <td>1</td>\n",
       "      <td>0</td>\n",
       "      <td>0</td>\n",
       "      <td>0</td>\n",
       "      <td>0</td>\n",
       "    </tr>\n",
       "  </tbody>\n",
       "</table>\n",
       "<p>9366 rows × 22 columns</p>\n",
       "</div>"
      ],
      "text/plain": [
       "        datetime IncidentTime  Call  Holiday  Morning  Afternoon  Night  \\\n",
       "0     2001-01-01          NaN     0        1        0          0      0   \n",
       "1     2001-01-02          NaN     0        0        0          0      0   \n",
       "2     2001-01-03     15:00:00     1        0        0          1      0   \n",
       "3     2001-01-04          NaN     0        0        0          0      0   \n",
       "4     2001-01-05          NaN     0        0        0          0      0   \n",
       "...          ...          ...   ...      ...      ...        ...    ...   \n",
       "9361  2022-11-20     09:07:59     1        0        1          0      0   \n",
       "9362  2022-11-21          NaN     0        0        0          0      0   \n",
       "9363  2022-11-22     13:26:42     1        0        0          1      0   \n",
       "9364  2022-11-23          NaN     0        0        0          0      0   \n",
       "9365  2022-11-24          NaN     0        1        0          0      0   \n",
       "\n",
       "      Monday  Tuesday  Wednesday  ...  Saturday  Sunday  temp  snowdepth  \\\n",
       "0          1        0          0  ...         0       0  26.2        9.2   \n",
       "1          0        1          0  ...         0       0  22.5        7.3   \n",
       "2          0        0          1  ...         0       0  22.3        6.8   \n",
       "3          0        0          0  ...         0       0  27.6        6.3   \n",
       "4          0        0          0  ...         0       0  26.4        6.6   \n",
       "...      ...      ...        ...  ...       ...     ...   ...        ...   \n",
       "9361       0        0          0  ...         0       1  29.8        0.0   \n",
       "9362       1        0          0  ...         0       0  31.1        0.0   \n",
       "9363       0        1          0  ...         0       0  38.2        0.0   \n",
       "9364       0        0          1  ...         0       0  36.7        0.0   \n",
       "9365       0        0          0  ...         0       0  37.8        0.0   \n",
       "\n",
       "      windspeed  Clear  Cloudy  Overcast  Rain  Snow  \n",
       "0          15.7      0       1         0     0     0  \n",
       "1          15.8      0       1         0     0     0  \n",
       "2          11.1      0       1         0     0     0  \n",
       "3          14.0      0       1         0     0     0  \n",
       "4          10.2      0       0         0     0     1  \n",
       "...         ...    ...     ...       ...   ...   ...  \n",
       "9361       17.6      1       0         0     0     0  \n",
       "9362       11.8      1       0         0     0     0  \n",
       "9363        8.0      1       0         0     0     0  \n",
       "9364       10.2      1       0         0     0     0  \n",
       "9365        5.0      1       0         0     0     0  \n",
       "\n",
       "[9366 rows x 22 columns]"
      ]
     },
     "execution_count": 9,
     "metadata": {},
     "output_type": "execute_result"
    }
   ],
   "source": [
    "# Load dataset\n",
    "df = pd.read_csv(\"../datasets/binarydataset.csv\",index_col=0)\n",
    "df"
   ]
  },
  {
   "cell_type": "code",
   "execution_count": 10,
   "id": "27d2d875",
   "metadata": {},
   "outputs": [],
   "source": [
    "X = df.iloc[:, 3:]  # Returns Features\n",
    "Y = df.iloc[:, 2]  # Returns Calls\n",
    "X_train, X_test, Y_train, Y_test = train_test_split(\n",
    "    X, Y, test_size=0.2, shuffle=True, random_state=32)"
   ]
  },
  {
   "cell_type": "markdown",
   "id": "f26d5016",
   "metadata": {},
   "source": [
    "### Create Binary Classification Model (Sequential)\n",
    "Layers:\n",
    "1. Flatten 18 features to input data\n",
    "2. Hidden layer between 20 - 320 neurons w/ ReLu activation  \n",
    "3. Output layer w/ Sigmoid activation\n",
    "\n",
    "Hyperparameters being tuned\n",
    "1. Amount of neurons in first layer w/ 40 steps \n",
    "2. Learning Rate [1e-1, le-4]"
   ]
  },
  {
   "cell_type": "code",
   "execution_count": 11,
   "id": "d2dd0b32",
   "metadata": {},
   "outputs": [],
   "source": [
    "def build_model(hp):\n",
    "    model = Sequential()\n",
    "    model.add(Flatten(input_shape=(19,)))  # Input Layer (18=features)\n",
    "    model.add(Dense(units=hp.Int(\"units\", min_value=20, max_value=320, step=40),\n",
    "              activation=\"relu\", name=\"Hidden_layer1\"))  # Find best amount of neurons for layer\n",
    "    model.add(Dense(1, activation=\"sigmoid\", name=\"Output_layer\"))\n",
    "    model.compile(optimizer=Adam(hp.Choice('learning_rate', values=[\n",
    "                  1e-2, 1e-4])), loss='binary_crossentropy', metrics=[\"accuracy\"])  # Adam = SGD\n",
    "    return model"
   ]
  },
  {
   "cell_type": "markdown",
   "id": "5dd3723a",
   "metadata": {},
   "source": [
    "## Create deep neural network model with 1-5 layers\n",
    "NOTE: Not used within tuning/training since accuracy doesn't improve"
   ]
  },
  {
   "cell_type": "code",
   "execution_count": 12,
   "id": "4c319302",
   "metadata": {},
   "outputs": [],
   "source": [
    "def build_model_layerN(hp):\n",
    "    model = Sequential()\n",
    "    model.add(Flatten(input_shape=(19,)))  # Input Layer (10=features)\n",
    "\n",
    "    # Finds how many layers should be in NN\n",
    "    for layer in range(hp.Int(\"num_layers\", 1, 5)):\n",
    "        model.add(Dense(units=hp.Int(\"units_\" + str(layer), min_value=20, max_value=320,\n",
    "                  step=40), activation=\"relu\"))  # Find best amount of neurons for layer\n",
    "    model.add(Dense(1, activation=\"sigmoid\", name=\"output_layer\"))\n",
    "    model.compile(optimizer=Adam(hp.Choice('learning_rate', values=[\n",
    "                  1e-2, 1e-4])), loss='binary_crossentropy', metrics=[\"accuracy\"])  # Adam = SGD\n",
    "    return model"
   ]
  },
  {
   "cell_type": "markdown",
   "id": "574301fa",
   "metadata": {},
   "source": [
    "### Find the best hyperparameters for TrainingSet using RandomSearch\n",
    "How to determine max_trails and executions_per_trail https://medium.com/@avengers14.blogger/what-are-max-trials-and-executions-per-trial-in-keras-tuner-68ef9a18497d"
   ]
  },
  {
   "cell_type": "code",
   "execution_count": 13,
   "id": "13fffc1c",
   "metadata": {},
   "outputs": [],
   "source": [
    "# Stop training when loss doesn't imporve in 1 epoches\n",
    "callback = EarlyStopping(monitor=\"loss\", min_delta=.01, patience=5)\n",
    "tuner = RandomSearch(\n",
    "    build_model,\n",
    "    objective='val_accuracy',\n",
    "    directory='binary_trails',  # Store results\n",
    "    project_name='FirePredict',\n",
    "    overwrite=True, \n",
    "    max_trials=32,  # Bc 16 steps x 2 learning_rates\n",
    "    executions_per_trial=3  # How many times to train verison of model\n",
    ")"
   ]
  },
  {
   "cell_type": "code",
   "execution_count": 14,
   "id": "1dcba6a3",
   "metadata": {},
   "outputs": [
    {
     "name": "stdout",
     "output_type": "stream",
     "text": [
      "Trial 12 Complete [00h 00m 04s]\n",
      "val_accuracy: 0.4957287907600403\n",
      "\n",
      "Best val_accuracy So Far: 0.4957287907600403\n",
      "Total elapsed time: 00h 00m 48s\n",
      "INFO:tensorflow:Oracle triggered exit\n"
     ]
    }
   ],
   "source": [
    "tuner_n_layers = RandomSearch(\n",
    "    build_model_layerN,\n",
    "    objective='val_accuracy',\n",
    "    directory='trails_directory_V2',  # Store results\n",
    "    project_name='FirePredict',\n",
    "    overwrite=True, # Delete Previous Trails Files\n",
    "    max_trials=160,  # Bc 16 steps x 2 learning_rates x 5 potential layers\n",
    "    executions_per_trial=3  # How many times to train verison of model\n",
    ")\n",
    "tuner.search(X_train, Y_train, callbacks=[callback], validation_split=.5)"
   ]
  },
  {
   "cell_type": "markdown",
   "id": "566bd84c",
   "metadata": {},
   "source": [
    "## Obtain the best hyperparameters to be used within training of model"
   ]
  },
  {
   "cell_type": "code",
   "execution_count": 15,
   "id": "096d119d",
   "metadata": {},
   "outputs": [
    {
     "name": "stdout",
     "output_type": "stream",
     "text": [
      "Epoch 1/50\n",
      "118/118 [==============================] - 1s 4ms/step - loss: 0.6932 - accuracy: 0.5171 - val_loss: 0.6938 - val_accuracy: 0.4957\n",
      "Epoch 2/50\n",
      "118/118 [==============================] - 0s 3ms/step - loss: 0.6928 - accuracy: 0.5166 - val_loss: 0.6937 - val_accuracy: 0.4957\n",
      "Epoch 3/50\n",
      "118/118 [==============================] - 0s 3ms/step - loss: 0.6929 - accuracy: 0.5166 - val_loss: 0.6947 - val_accuracy: 0.4957\n",
      "Epoch 4/50\n",
      "118/118 [==============================] - 0s 3ms/step - loss: 0.6931 - accuracy: 0.5166 - val_loss: 0.6942 - val_accuracy: 0.4957\n",
      "Epoch 5/50\n",
      "118/118 [==============================] - 0s 3ms/step - loss: 0.6929 - accuracy: 0.5166 - val_loss: 0.6938 - val_accuracy: 0.4957\n",
      "Epoch 6/50\n",
      "118/118 [==============================] - 0s 3ms/step - loss: 0.6929 - accuracy: 0.5166 - val_loss: 0.6941 - val_accuracy: 0.4957\n"
     ]
    }
   ],
   "source": [
    "best_hps = tuner.get_best_hyperparameters(num_trials=1)[0]\n",
    "model = tuner.hypermodel.build(best_hps)\n",
    "\n",
    "# accuracy = train accuracy, val_accuracy = test accuracy\n",
    "history = model.fit(X_train, Y_train, epochs=50, callbacks=[callback], validation_split=.5)"
   ]
  },
  {
   "cell_type": "markdown",
   "id": "24034238",
   "metadata": {},
   "source": [
    "# Stats about Neural Network Model"
   ]
  },
  {
   "cell_type": "markdown",
   "id": "621968f6",
   "metadata": {},
   "source": [
    "Training and Validation set accuracy"
   ]
  },
  {
   "cell_type": "code",
   "execution_count": 16,
   "id": "8eebf80b",
   "metadata": {},
   "outputs": [
    {
     "data": {
      "image/png": "[encoded data removed]",
      "text/plain": [
       "<Figure size 640x480 with 1 Axes>"
      ]
     },
     "metadata": {},
     "output_type": "display_data"
    },
    {
     "name": "stdout",
     "output_type": "stream",
     "text": [
      "Model: \"sequential_1\"\n",
      "_________________________________________________________________\n",
      " Layer (type)                Output Shape              Param #   \n",
      "=================================================================\n",
      " flatten_1 (Flatten)         (None, 19)                0         \n",
      "                                                                 \n",
      " Hidden_layer1 (Dense)       (None, 300)               6000      \n",
      "                                                                 \n",
      " Output_layer (Dense)        (None, 1)                 301       \n",
      "                                                                 \n",
      "=================================================================\n",
      "Total params: 6,301\n",
      "Trainable params: 6,301\n",
      "Non-trainable params: 0\n",
      "_________________________________________________________________\n"
     ]
    }
   ],
   "source": [
    "plt.plot(history.history['accuracy'])\n",
    "plt.plot(history.history['val_accuracy'])\n",
    "plt.title(\"Model Accuracy\")\n",
    "plt.ylabel(\"Accuracy\")\n",
    "plt.xlabel(\"Epoch\")\n",
    "plt.legend([\"Train Set\", \"Validation Set\"], loc=\"lower right\")\n",
    "plt.show()\n",
    "model.summary()"
   ]
  },
  {
   "cell_type": "markdown",
   "id": "082d3a48",
   "metadata": {},
   "source": [
    "Training and Validation Loss"
   ]
  },
  {
   "cell_type": "code",
   "execution_count": 17,
   "id": "a271698a",
   "metadata": {},
   "outputs": [
    {
     "data": {
      "image/png": "[encoded data removed]",
      "text/plain": [
       "<Figure size 640x480 with 1 Axes>"
      ]
     },
     "metadata": {},
     "output_type": "display_data"
    }
   ],
   "source": [
    "plt.plot(history.history['loss'])\n",
    "plt.plot(history.history['val_loss'])\n",
    "plt.title('Model Loss')\n",
    "plt.ylabel('Loss')\n",
    "plt.xlabel('Epoch')\n",
    "plt.legend(['Train Set', 'Validation Set'], loc='upper right')\n",
    "plt.show()"
   ]
  },
  {
   "cell_type": "code",
   "execution_count": 18,
   "id": "d67ae07f",
   "metadata": {},
   "outputs": [
    {
     "name": "stdout",
     "output_type": "stream",
     "text": [
      "59/59 [==============================] - 0s 1ms/step - loss: 0.6935 - accuracy: 0.5037\n"
     ]
    }
   ],
   "source": [
    "loss, accuracy = model.evaluate(X_test,Y_test)"
   ]
  }
 ],
 "metadata": {
  "kernelspec": {
   "display_name": "ML",
   "language": "python",
   "name": "python3"
  },
  "language_info": {
   "codemirror_mode": {
    "name": "ipython",
    "version": 3
   },
   "file_extension": ".py",
   "mimetype": "text/x-python",
   "name": "python",
   "nbconvert_exporter": "python",
   "pygments_lexer": "ipython3",
   "version": "3.10.8"
  },
  "vscode": {
   "interpreter": {
    "hash": "24655098450cfdfc86a5c9aa42e2375245240419abafb835314a302369f7ffb4"
   }
  }
 },
 "nbformat": 4,
 "nbformat_minor": 5
}
